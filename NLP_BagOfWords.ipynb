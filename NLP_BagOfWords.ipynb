{
 "cells": [
  {
   "cell_type": "code",
   "execution_count": 1,
   "id": "e1564698",
   "metadata": {},
   "outputs": [
    {
     "name": "stderr",
     "output_type": "stream",
     "text": [
      "[nltk_data] Downloading package punkt to /home/ubuntu/nltk_data...\n",
      "[nltk_data]   Package punkt is already up-to-date!\n",
      "[nltk_data] Downloading package stopwords to /home/ubuntu/nltk_data...\n",
      "[nltk_data]   Package stopwords is already up-to-date!\n",
      "[nltk_data] Downloading package wordnet to /home/ubuntu/nltk_data...\n",
      "[nltk_data]   Package wordnet is already up-to-date!\n"
     ]
    }
   ],
   "source": [
    "# step 1 \n",
    "import nltk\n",
    "from nltk.corpus import stopwords\n",
    "nltk.download('punkt')\n",
    "nltk.download('stopwords')\n",
    "nltk.download('wordnet')\n",
    "from nltk.stem import WordNetLemmatizer\n",
    "import re\n",
    "# regulation expression library is used to remove any kind of punctuation mark"
   ]
  },
  {
   "cell_type": "code",
   "execution_count": 2,
   "id": "71e1e9fa",
   "metadata": {},
   "outputs": [
    {
     "name": "stderr",
     "output_type": "stream",
     "text": [
      "[nltk_data] Downloading package omw-1.4 to /home/ubuntu/nltk_data...\n"
     ]
    },
    {
     "name": "stdout",
     "output_type": "stream",
     "text": [
      "He is a good boy.\n",
      "She is a good girl.\n",
      "Boy and girl are good.\n"
     ]
    },
    {
     "name": "stderr",
     "output_type": "stream",
     "text": [
      "[nltk_data]   Package omw-1.4 is already up-to-date!\n"
     ]
    }
   ],
   "source": [
    "nltk.download('omw-1.4')\n",
    "f=open('demo.txt')\n",
    "text =f.read()\n",
    "print(text)"
   ]
  },
  {
   "cell_type": "code",
   "execution_count": 3,
   "id": "8f32e57c",
   "metadata": {},
   "outputs": [
    {
     "name": "stdout",
     "output_type": "stream",
     "text": [
      "['He is a good boy.', 'She is a good girl.', 'Boy and girl are good.']\n"
     ]
    }
   ],
   "source": [
    "# step 2: Tokenization the sentence\n",
    "sentences =nltk.sent_tokenize(text)\n",
    "print(sentences)"
   ]
  },
  {
   "cell_type": "code",
   "execution_count": 4,
   "id": "0827027c",
   "metadata": {},
   "outputs": [
    {
     "name": "stdout",
     "output_type": "stream",
     "text": [
      "good boy\n",
      "good girl\n",
      "boy girl good\n",
      "['good boy', 'good girl', 'boy girl good']\n"
     ]
    }
   ],
   "source": [
    "# step 3: removal of stop words and Lemmatization \n",
    "# lemmatized meaning to be converted in its root form \n",
    "lemmatizer=WordNetLemmatizer()\n",
    "text_data=[]  \n",
    "\n",
    "for sentence in sentences:\n",
    "    sentence= re.sub('[^a-zA-Z]',' ',sentence)\n",
    "#     re.sub('[pattern needed which we want is only alphabets be considered]',\"replace the extra with- space''\",\n",
    "#                            'string in which we want changes/process it-sentence only ')\n",
    "    sentence=sentence.lower()\n",
    "    sentence=sentence.split()\n",
    "    words=[lemmatizer.lemmatize(word) for word in sentence if word not in set(stopwords.words('english'))]\n",
    "#     for every word in sentence will be lemmatized when it is not a stop word\n",
    "#     print(words)\n",
    "#     print(\"Forming sentences\")\n",
    "    sentence =' '.join(words)\n",
    "    text_data.append(sentence)\n",
    "    print(sentence)\n",
    "    \n",
    "print(text_data)"
   ]
  },
  {
   "cell_type": "code",
   "execution_count": 6,
   "id": "29ccdf31",
   "metadata": {},
   "outputs": [
    {
     "name": "stdout",
     "output_type": "stream",
     "text": [
      "[[1 0 1]\n",
      " [0 1 1]\n",
      " [1 1 1]]\n"
     ]
    }
   ],
   "source": [
    "# step 4 : Bag of words\n",
    "from sklearn.feature_extraction.text import CountVectorizer\n",
    "# CountVectorizer will conver your data into bag of words\n",
    "cv=CountVectorizer(max_features=100)\n",
    "# max_features=100 means that we can consider 100 nos of words in our vocabulary\n",
    "\n",
    "# independent variable / features\n",
    "x=cv.fit_transform(text_data).toarray()\n",
    "print(x)\n",
    "# here same importance is given to boy and good\n",
    "# [[1 0 1]\n",
    "#  [0 1 1]\n",
    "#  [1 1 1]]"
   ]
  },
  {
   "cell_type": "code",
   "execution_count": 7,
   "id": "15ae9afe",
   "metadata": {},
   "outputs": [
    {
     "name": "stdout",
     "output_type": "stream",
     "text": [
      "[[0.78980693 0.         0.61335554]\n",
      " [0.         0.78980693 0.61335554]\n",
      " [0.61980538 0.61980538 0.48133417]]\n"
     ]
    }
   ],
   "source": [
    "# step 4: TF-IDF\n",
    "from sklearn.feature_extraction.text import TfidfVectorizer\n",
    "cv=TfidfVectorizer()\n",
    "# independent variable / features\n",
    "x=cv.fit_transform(text_data).toarray()\n",
    "print(x)\n",
    "# here boy is more important than good in first line and girl is zero   good boy\n",
    "# here boy is zero a\n",
    "# third line good is less important\n",
    "# TF-IDF has more importance "
   ]
  },
  {
   "cell_type": "code",
   "execution_count": null,
   "id": "dc23cc46",
   "metadata": {},
   "outputs": [],
   "source": []
  }
 ],
 "metadata": {
  "kernelspec": {
   "display_name": "Python 3 (ipykernel)",
   "language": "python",
   "name": "python3"
  },
  "language_info": {
   "codemirror_mode": {
    "name": "ipython",
    "version": 3
   },
   "file_extension": ".py",
   "mimetype": "text/x-python",
   "name": "python",
   "nbconvert_exporter": "python",
   "pygments_lexer": "ipython3",
   "version": "3.10.7"
  }
 },
 "nbformat": 4,
 "nbformat_minor": 5
}
