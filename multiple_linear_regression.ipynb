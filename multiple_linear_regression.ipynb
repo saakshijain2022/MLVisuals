{
 "cells": [
  {
   "cell_type": "code",
   "execution_count": 7,
   "id": "2367ac9d",
   "metadata": {},
   "outputs": [],
   "source": [
    "# step 1 --- importing required libraries\n",
    "import numpy as np \n",
    "import pandas as pd\n",
    "\n",
    "import matplotlib.pyplot as plt"
   ]
  },
  {
   "cell_type": "code",
   "execution_count": 8,
   "id": "528f50f2",
   "metadata": {},
   "outputs": [
    {
     "name": "stdout",
     "output_type": "stream",
     "text": [
      "   R&D Spend  Administration  Marketing Spend       State     Profit\n",
      "0  165349.20       136897.80        471784.10    New York  192261.83\n",
      "1  162597.70       151377.59        443898.53  California  191792.06\n",
      "2  153441.51       101145.55        407934.54     Florida  191050.39\n",
      "3  144372.41       118671.85        383199.62    New York  182901.99\n",
      "4  142107.34        91391.77        366168.42     Florida  166187.94\n"
     ]
    }
   ],
   "source": [
    "# step 2 : loading the dataset\n",
    "data_set = pd.read_csv('./DATA_SETS/50_Startups_logistic_regression.csv')\n",
    "# data_set = pd.read_csv('./DATA_')\n",
    "\n",
    "print(data_set.head())\n",
    "# we have four difference input variable which affect target variable (y / Profit )"
   ]
  },
  {
   "cell_type": "code",
   "execution_count": 10,
   "id": "0000cf34",
   "metadata": {},
   "outputs": [
    {
     "name": "stdout",
     "output_type": "stream",
     "text": [
      "Before Encoding [[165349.2 136897.8 471784.1 'New York']\n",
      " [162597.7 151377.59 443898.53 'California']\n",
      " [153441.51 101145.55 407934.54 'Florida']\n",
      " [144372.41 118671.85 383199.62 'New York']\n",
      " [142107.34 91391.77 366168.42 'Florida']\n",
      " [131876.9 99814.71 362861.36 'New York']\n",
      " [134615.46 147198.87 127716.82 'California']\n",
      " [130298.13 145530.06 323876.68 'Florida']\n",
      " [120542.52 148718.95 311613.29 'New York']\n",
      " [123334.88 108679.17 304981.62 'California']\n",
      " [101913.08 110594.11 229160.95 'Florida']\n",
      " [100671.96 91790.61 249744.55 'California']\n",
      " [93863.75 127320.38 249839.44 'Florida']\n",
      " [91992.39 135495.07 252664.93 'California']\n",
      " [119943.24 156547.42 256512.92 'Florida']\n",
      " [114523.61 122616.84 261776.23 'New York']\n",
      " [78013.11 121597.55 264346.06 'California']\n",
      " [94657.16 145077.58 282574.31 'New York']\n",
      " [91749.16 114175.79 294919.57 'Florida']\n",
      " [86419.7 153514.11 0.0 'New York']\n",
      " [76253.86 113867.3 298664.47 'California']\n",
      " [78389.47 153773.43 299737.29 'New York']\n",
      " [73994.56 122782.75 303319.26 'Florida']\n",
      " [67532.53 105751.03 304768.73 'Florida']\n",
      " [77044.01 99281.34 140574.81 'New York']\n",
      " [64664.71 139553.16 137962.62 'California']\n",
      " [75328.87 144135.98 134050.07 'Florida']\n",
      " [72107.6 127864.55 353183.81 'New York']\n",
      " [66051.52 182645.56 118148.2 'Florida']\n",
      " [65605.48 153032.06 107138.38 'New York']\n",
      " [61994.48 115641.28 91131.24 'Florida']\n",
      " [61136.38 152701.92 88218.23 'New York']\n",
      " [63408.86 129219.61 46085.25 'California']\n",
      " [55493.95 103057.49 214634.81 'Florida']\n",
      " [46426.07 157693.92 210797.67 'California']\n",
      " [46014.02 85047.44 205517.64 'New York']\n",
      " [28663.76 127056.21 201126.82 'Florida']\n",
      " [44069.95 51283.14 197029.42 'California']\n",
      " [20229.59 65947.93 185265.1 'New York']\n",
      " [38558.51 82982.09 174999.3 'California']\n",
      " [28754.33 118546.05 172795.67 'California']\n",
      " [27892.92 84710.77 164470.71 'Florida']\n",
      " [23640.93 96189.63 148001.11 'California']\n",
      " [15505.73 127382.3 35534.17 'New York']\n",
      " [22177.74 154806.14 28334.72 'California']\n",
      " [1000.23 124153.04 1903.93 'New York']\n",
      " [1315.46 115816.21 297114.46 'Florida']\n",
      " [0.0 135426.92 0.0 'California']\n",
      " [542.05 51743.15 0.0 'New York']\n",
      " [0.0 116983.8 45173.06 'California']]\n",
      "After Encoding [[165349.2 136897.8 471784.1 2]\n",
      " [162597.7 151377.59 443898.53 0]\n",
      " [153441.51 101145.55 407934.54 1]\n",
      " [144372.41 118671.85 383199.62 2]\n",
      " [142107.34 91391.77 366168.42 1]\n",
      " [131876.9 99814.71 362861.36 2]\n",
      " [134615.46 147198.87 127716.82 0]\n",
      " [130298.13 145530.06 323876.68 1]\n",
      " [120542.52 148718.95 311613.29 2]\n",
      " [123334.88 108679.17 304981.62 0]\n",
      " [101913.08 110594.11 229160.95 1]\n",
      " [100671.96 91790.61 249744.55 0]\n",
      " [93863.75 127320.38 249839.44 1]\n",
      " [91992.39 135495.07 252664.93 0]\n",
      " [119943.24 156547.42 256512.92 1]\n",
      " [114523.61 122616.84 261776.23 2]\n",
      " [78013.11 121597.55 264346.06 0]\n",
      " [94657.16 145077.58 282574.31 2]\n",
      " [91749.16 114175.79 294919.57 1]\n",
      " [86419.7 153514.11 0.0 2]\n",
      " [76253.86 113867.3 298664.47 0]\n",
      " [78389.47 153773.43 299737.29 2]\n",
      " [73994.56 122782.75 303319.26 1]\n",
      " [67532.53 105751.03 304768.73 1]\n",
      " [77044.01 99281.34 140574.81 2]\n",
      " [64664.71 139553.16 137962.62 0]\n",
      " [75328.87 144135.98 134050.07 1]\n",
      " [72107.6 127864.55 353183.81 2]\n",
      " [66051.52 182645.56 118148.2 1]\n",
      " [65605.48 153032.06 107138.38 2]\n",
      " [61994.48 115641.28 91131.24 1]\n",
      " [61136.38 152701.92 88218.23 2]\n",
      " [63408.86 129219.61 46085.25 0]\n",
      " [55493.95 103057.49 214634.81 1]\n",
      " [46426.07 157693.92 210797.67 0]\n",
      " [46014.02 85047.44 205517.64 2]\n",
      " [28663.76 127056.21 201126.82 1]\n",
      " [44069.95 51283.14 197029.42 0]\n",
      " [20229.59 65947.93 185265.1 2]\n",
      " [38558.51 82982.09 174999.3 0]\n",
      " [28754.33 118546.05 172795.67 0]\n",
      " [27892.92 84710.77 164470.71 1]\n",
      " [23640.93 96189.63 148001.11 0]\n",
      " [15505.73 127382.3 35534.17 2]\n",
      " [22177.74 154806.14 28334.72 0]\n",
      " [1000.23 124153.04 1903.93 2]\n",
      " [1315.46 115816.21 297114.46 1]\n",
      " [0.0 135426.92 0.0 0]\n",
      " [542.05 51743.15 0.0 2]\n",
      " [0.0 116983.8 45173.06 0]]\n"
     ]
    }
   ],
   "source": [
    "# step 3 -- extracting the predictors/ input  and target/ output / profit\n",
    "predictors = ['R&D Spend','Administration','Marketing Spend','State']\n",
    "target = ['Profit']\n",
    "x = data_set[predictors].values\n",
    "y = data_set[target].values\n",
    "# print (y)                                                                                                                                                                                                                                                                                                                                                                                                                                                                                                                                                                                          \n",
    "# this will show an error as one of predictors- \n",
    "# State has text               rest all are floating / numeric data\n",
    "# we smust convert state text dta into numeric value  \n",
    "#  technique of encoding some dummy vlaues like newyork = 0, califonia = 1 , florida = 2\n",
    "\n",
    "# step 4 : Encoding the dummy variables\n",
    "from sklearn.preprocessing import LabelEncoder\n",
    "le = LabelEncoder()\n",
    "# encoding is used to convert categorical value into numeric term\n",
    "print(\"Before Encoding\",x)\n",
    "# x[ :,3]  means all rows , only 3rd column / state\n",
    "x[:,3] = le.fit_transform(x[:,3].tolist())  \n",
    "print(\"After Encoding\",x)\n",
    "#  as tolist() as we are extracting column from numpy dataframe\n"
   ]
  },
  {
   "cell_type": "code",
   "execution_count": 11,
   "id": "144fd905",
   "metadata": {},
   "outputs": [],
   "source": [
    "# step 5: splitting of the dataset  70 -80 % training and 30 -20% testing \n",
    "from sklearn.model_selection import train_test_split\n",
    "# this will not train your code it will just split your dataset into train and test\n",
    "x_train , x_test ,y_train ,y_test = train_test_split(x,y,test_size =0.2 , random_state=0)\n"
   ]
  },
  {
   "cell_type": "code",
   "execution_count": 12,
   "id": "d23e1998",
   "metadata": {},
   "outputs": [
    {
     "data": {
      "text/html": [
       "<style>#sk-container-id-1 {color: black;background-color: white;}#sk-container-id-1 pre{padding: 0;}#sk-container-id-1 div.sk-toggleable {background-color: white;}#sk-container-id-1 label.sk-toggleable__label {cursor: pointer;display: block;width: 100%;margin-bottom: 0;padding: 0.3em;box-sizing: border-box;text-align: center;}#sk-container-id-1 label.sk-toggleable__label-arrow:before {content: \"▸\";float: left;margin-right: 0.25em;color: #696969;}#sk-container-id-1 label.sk-toggleable__label-arrow:hover:before {color: black;}#sk-container-id-1 div.sk-estimator:hover label.sk-toggleable__label-arrow:before {color: black;}#sk-container-id-1 div.sk-toggleable__content {max-height: 0;max-width: 0;overflow: hidden;text-align: left;background-color: #f0f8ff;}#sk-container-id-1 div.sk-toggleable__content pre {margin: 0.2em;color: black;border-radius: 0.25em;background-color: #f0f8ff;}#sk-container-id-1 input.sk-toggleable__control:checked~div.sk-toggleable__content {max-height: 200px;max-width: 100%;overflow: auto;}#sk-container-id-1 input.sk-toggleable__control:checked~label.sk-toggleable__label-arrow:before {content: \"▾\";}#sk-container-id-1 div.sk-estimator input.sk-toggleable__control:checked~label.sk-toggleable__label {background-color: #d4ebff;}#sk-container-id-1 div.sk-label input.sk-toggleable__control:checked~label.sk-toggleable__label {background-color: #d4ebff;}#sk-container-id-1 input.sk-hidden--visually {border: 0;clip: rect(1px 1px 1px 1px);clip: rect(1px, 1px, 1px, 1px);height: 1px;margin: -1px;overflow: hidden;padding: 0;position: absolute;width: 1px;}#sk-container-id-1 div.sk-estimator {font-family: monospace;background-color: #f0f8ff;border: 1px dotted black;border-radius: 0.25em;box-sizing: border-box;margin-bottom: 0.5em;}#sk-container-id-1 div.sk-estimator:hover {background-color: #d4ebff;}#sk-container-id-1 div.sk-parallel-item::after {content: \"\";width: 100%;border-bottom: 1px solid gray;flex-grow: 1;}#sk-container-id-1 div.sk-label:hover label.sk-toggleable__label {background-color: #d4ebff;}#sk-container-id-1 div.sk-serial::before {content: \"\";position: absolute;border-left: 1px solid gray;box-sizing: border-box;top: 0;bottom: 0;left: 50%;z-index: 0;}#sk-container-id-1 div.sk-serial {display: flex;flex-direction: column;align-items: center;background-color: white;padding-right: 0.2em;padding-left: 0.2em;position: relative;}#sk-container-id-1 div.sk-item {position: relative;z-index: 1;}#sk-container-id-1 div.sk-parallel {display: flex;align-items: stretch;justify-content: center;background-color: white;position: relative;}#sk-container-id-1 div.sk-item::before, #sk-container-id-1 div.sk-parallel-item::before {content: \"\";position: absolute;border-left: 1px solid gray;box-sizing: border-box;top: 0;bottom: 0;left: 50%;z-index: -1;}#sk-container-id-1 div.sk-parallel-item {display: flex;flex-direction: column;z-index: 1;position: relative;background-color: white;}#sk-container-id-1 div.sk-parallel-item:first-child::after {align-self: flex-end;width: 50%;}#sk-container-id-1 div.sk-parallel-item:last-child::after {align-self: flex-start;width: 50%;}#sk-container-id-1 div.sk-parallel-item:only-child::after {width: 0;}#sk-container-id-1 div.sk-dashed-wrapped {border: 1px dashed gray;margin: 0 0.4em 0.5em 0.4em;box-sizing: border-box;padding-bottom: 0.4em;background-color: white;}#sk-container-id-1 div.sk-label label {font-family: monospace;font-weight: bold;display: inline-block;line-height: 1.2em;}#sk-container-id-1 div.sk-label-container {text-align: center;}#sk-container-id-1 div.sk-container {/* jupyter's `normalize.less` sets `[hidden] { display: none; }` but bootstrap.min.css set `[hidden] { display: none !important; }` so we also need the `!important` here to be able to override the default hidden behavior on the sphinx rendered scikit-learn.org. See: https://github.com/scikit-learn/scikit-learn/issues/21755 */display: inline-block !important;position: relative;}#sk-container-id-1 div.sk-text-repr-fallback {display: none;}</style><div id=\"sk-container-id-1\" class=\"sk-top-container\"><div class=\"sk-text-repr-fallback\"><pre>LinearRegression()</pre><b>In a Jupyter environment, please rerun this cell to show the HTML representation or trust the notebook. <br />On GitHub, the HTML representation is unable to render, please try loading this page with nbviewer.org.</b></div><div class=\"sk-container\" hidden><div class=\"sk-item\"><div class=\"sk-estimator sk-toggleable\"><input class=\"sk-toggleable__control sk-hidden--visually\" id=\"sk-estimator-id-1\" type=\"checkbox\" checked><label for=\"sk-estimator-id-1\" class=\"sk-toggleable__label sk-toggleable__label-arrow\">LinearRegression</label><div class=\"sk-toggleable__content\"><pre>LinearRegression()</pre></div></div></div></div></div>"
      ],
      "text/plain": [
       "LinearRegression()"
      ]
     },
     "execution_count": 12,
     "metadata": {},
     "output_type": "execute_result"
    }
   ],
   "source": [
    "# step 6: fitting the model\n",
    "from sklearn.linear_model import LinearRegression\n",
    "# we have to import LinearRegression as there is no multtipleRegression \n",
    "# only difference is that in multiple we have mutiple input which define output y variable\n",
    "regressor = LinearRegression()\n",
    "regressor.fit(x_train, y_train)\n",
    "# training or learning the model"
   ]
  },
  {
   "cell_type": "code",
   "execution_count": 13,
   "id": "f7cd49ac",
   "metadata": {},
   "outputs": [
    {
     "name": "stdout",
     "output_type": "stream",
     "text": [
      "Train score : 0.9500009880362248\n",
      "Train score : 0.9386861070938133\n"
     ]
    }
   ],
   "source": [
    "# step7 : performance of model\n",
    "print(\"Train score :\",regressor.score(x_train,y_train))\n",
    "print(\"Train score :\",regressor.score(x_test,y_test))"
   ]
  },
  {
   "cell_type": "code",
   "execution_count": 14,
   "id": "46038c55",
   "metadata": {},
   "outputs": [
    {
     "name": "stdout",
     "output_type": "stream",
     "text": [
      "Enter the R&D spend: 165349.2\n",
      "Enter the admin spend: 136897.8\n",
      "Enter the markiting spend: 471784.1\n",
      "Enter the state of company (0: califonia, 1:Florida , 2:NY)2\n",
      "The predicted profit of company : [[192416.48617631]]\n"
     ]
    }
   ],
   "source": [
    "# step 8 : prediction from user inputed data\n",
    "rnd = float(input(\"Enter the R&D spend: \"))\n",
    "admin = float(input(\"Enter the admin spend: \"))\n",
    "marketing  = float(input(\"Enter the markiting spend: \"))\n",
    "state = int (input(\"Enter the state of company (0: califonia, 1:Florida , 2:NY)\"))\n",
    "\n",
    "test_sample = [[rnd ,admin , marketing , state]]\n",
    "profit = regressor.predict(test_sample)\n",
    "print(\"The predicted profit of company :\",profit)"
   ]
  },
  {
   "cell_type": "code",
   "execution_count": null,
   "id": "cff0d9d8",
   "metadata": {},
   "outputs": [],
   "source": []
  }
 ],
 "metadata": {
  "kernelspec": {
   "display_name": "Python 3 (ipykernel)",
   "language": "python",
   "name": "python3"
  },
  "language_info": {
   "codemirror_mode": {
    "name": "ipython",
    "version": 3
   },
   "file_extension": ".py",
   "mimetype": "text/x-python",
   "name": "python",
   "nbconvert_exporter": "python",
   "pygments_lexer": "ipython3",
   "version": "3.10.7"
  }
 },
 "nbformat": 4,
 "nbformat_minor": 5
}
